{
 "cells": [
  {
   "cell_type": "code",
   "execution_count": 2,
   "metadata": {},
   "outputs": [],
   "source": [
    "import os\n",
    "\n",
    "def isspam (filename):\n",
    "    with open (filename, \"r\") as f:\n",
    "        filecontent =f.read()\n",
    "    \n",
    "    if (\"money\", \"covid\") in filecontent:             # for detecting spam like money, covid in the files\n",
    "        return True\n",
    "    else:\n",
    "        return False\n",
    "\n",
    "if __name__ ==\"main\":\n",
    "    dir_contents = os.listdir()             # for listing the contents in the folder\n",
    "\n",
    "    nspam=0                                 # for counting how many files have the spam\n",
    "    for items in dir_contents:\n",
    "        if item.endswith('.txt'):\n",
    "            print(f\"Detected spam in {item}\")\n",
    "            flag = isspam(item)\n",
    "            if flag:\n",
    "                print(\"****SPAM FOUND****\")\n",
    "                nspam +=1\n",
    "            else:\n",
    "                print (\"spam not found\")\n",
    "    a = isspam('spam1.txt')\n",
    "    b = isspam('spam2.txt')\n",
    "    print(a)\n",
    "    print(b)\n",
    "    #print (\"****SPAM DETECTOR SUMMARY****\")\n",
    "    #print(f\"{nspam} files found with spam in them\")"
   ]
  },
  {
   "cell_type": "code",
   "execution_count": null,
   "metadata": {},
   "outputs": [],
   "source": []
  }
 ],
 "metadata": {
  "kernelspec": {
   "display_name": "practice",
   "language": "python",
   "name": "python3"
  },
  "language_info": {
   "codemirror_mode": {
    "name": "ipython",
    "version": 3
   },
   "file_extension": ".py",
   "mimetype": "text/x-python",
   "name": "python",
   "nbconvert_exporter": "python",
   "pygments_lexer": "ipython3",
   "version": "3.7.0"
  },
  "orig_nbformat": 4,
  "vscode": {
   "interpreter": {
    "hash": "fff74ef4da67ab0e30273f900e6f807b4ecb8c834c0f4afbff7035a73aa0ac91"
   }
  }
 },
 "nbformat": 4,
 "nbformat_minor": 2
}
