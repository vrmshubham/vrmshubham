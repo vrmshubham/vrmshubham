{
 "cells": [
  {
   "cell_type": "code",
   "execution_count": 2,
   "metadata": {},
   "outputs": [
    {
     "name": "stdout",
     "output_type": "stream",
     "text": [
      "['05_clear_the_clutter.ipynb', 'docss', 'others', 'ppts', 'zips']\n",
      "['05_clear_the_clutter.ipynb']\n",
      "[]\n",
      "[]\n",
      "[]\n"
     ]
    }
   ],
   "source": [
    "import os \n",
    "\n",
    "def createifnotexist (folder):\n",
    "    if not os.path.exists(folder):\n",
    "        os.makedirs(folder)                     # defined a func() to not create folder if already exists\n",
    "\n",
    "def move(folderName, files):\n",
    "    for file in files:\n",
    "        os.replace(file, f\"{folderName}/{file}\")\n",
    "files = os.listdir()\n",
    "#print (files)        # we can also write (files = os.listdier())\n",
    "\n",
    "\n",
    "createifnotexist('docss')\n",
    "createifnotexist('zips')\n",
    "createifnotexist('ppts')              #by this we have created 3 new folders in the existing folder\n",
    "createifnotexist('others')               # created an extra folder for unidentified extensions\n",
    "\n",
    "print (files)\n",
    "\n",
    "docsExts = [\".pdf\", '.txt', '.xls', '.docs', '.exe']\n",
    "docs = [file for file in files if os.path.splitext(file)[1].lower() in docsExts]            # assigning exts. for docs folder\n",
    "\n",
    "zipExts = [\".zip\", \".csv\"]\n",
    "zip = [file for file in files if os.path.splitext(file)[1].lower() in zipExts]              # assigning exts. for zip folder\n",
    "\n",
    "pptExts = ['.pptx']\n",
    "ppt = [file for file in files if os.path.splitext(file)[1].lower() in pptExts]               # assigning exts. for ppt folder\n",
    "\n",
    "\n",
    "other =[]\n",
    "for file in files:                                                                                  # for moving other files in other folder\n",
    "    ext = os.path.splitext(file)[1].lower()\n",
    "    if (ext not in ppt) and (ext not in docsExts) and (ext not in zipExts) and os.path.isfile(file):\n",
    "        other.append (file)\n",
    "\n",
    "\n",
    "move('others',other)                             # if there are any files of ppt ext. in other then append them into ppt\n",
    "move('docss',docs)\n",
    "move ('ppts',ppt)\n",
    "move('zips', zip)\n",
    "print (other)\n",
    "print (ppt)\n",
    "print (zip)\n",
    "print (docs)\n",
    "\n"
   ]
  }
 ],
 "metadata": {
  "kernelspec": {
   "display_name": "base",
   "language": "python",
   "name": "python3"
  },
  "language_info": {
   "codemirror_mode": {
    "name": "ipython",
    "version": 3
   },
   "file_extension": ".py",
   "mimetype": "text/x-python",
   "name": "python",
   "nbconvert_exporter": "python",
   "pygments_lexer": "ipython3",
   "version": "3.9.13 (main, Aug 25 2022, 23:51:50) [MSC v.1916 64 bit (AMD64)]"
  },
  "orig_nbformat": 4,
  "vscode": {
   "interpreter": {
    "hash": "a825f8e8905b8e64233e6384cfa1616d0baa442a3b458fa78e4916d5c671b0d4"
   }
  }
 },
 "nbformat": 4,
 "nbformat_minor": 2
}
