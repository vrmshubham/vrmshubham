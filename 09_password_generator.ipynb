{
 "cells": [
  {
   "cell_type": "code",
   "execution_count": 28,
   "metadata": {},
   "outputs": [],
   "source": [
    "import string\n",
    "import random\n",
    "if __name__ == \"__main__\":\n",
    "    s1 = string.ascii_lowercase\n",
    "    s2 = string.ascii_uppercase\n",
    "    s3 = string.digits\n",
    "    s4 = string.punctuation\n",
    "\n",
    "    pass_len = int(input(\"Enter your password length \"))        # todo: handel Gibberish\n",
    "\n",
    "    \n",
    "   "
   ]
  },
  {
   "cell_type": "code",
   "execution_count": 29,
   "metadata": {},
   "outputs": [
    {
     "name": "stdout",
     "output_type": "stream",
     "text": [
      "Your password is:\n",
      "=AkS]?p3_4U8zy<\n"
     ]
    }
   ],
   "source": [
    "s = []\n",
    "s.extend(list(s1))\n",
    "s.extend(list(s2))\n",
    "s.extend(list(s3))\n",
    "s.extend(list(s4))\n",
    "\n",
    "# print(s)\n",
    "random.shuffle(s)\n",
    "\n",
    "# print (s)\n",
    "print (\"Your password is:\") \n",
    "print(\"\".join(s[0:pass_len]))                      # if we use shuffel \n",
    "# print (\"\".join(random.sample()))                 # if we don't use random.shuffel we can use random.sample\n"
   ]
  },
  {
   "cell_type": "code",
   "execution_count": null,
   "metadata": {},
   "outputs": [],
   "source": []
  }
 ],
 "metadata": {
  "kernelspec": {
   "display_name": "practice",
   "language": "python",
   "name": "python3"
  },
  "language_info": {
   "codemirror_mode": {
    "name": "ipython",
    "version": 3
   },
   "file_extension": ".py",
   "mimetype": "text/x-python",
   "name": "python",
   "nbconvert_exporter": "python",
   "pygments_lexer": "ipython3",
   "version": "3.7.0 (default, Jun 28 2018, 08:04:48) [MSC v.1912 64 bit (AMD64)]"
  },
  "orig_nbformat": 4,
  "vscode": {
   "interpreter": {
    "hash": "fff74ef4da67ab0e30273f900e6f807b4ecb8c834c0f4afbff7035a73aa0ac91"
   }
  }
 },
 "nbformat": 4,
 "nbformat_minor": 2
}
