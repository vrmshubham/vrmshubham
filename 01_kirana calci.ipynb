{
 "cells": [
  {
   "cell_type": "code",
   "execution_count": null,
   "metadata": {},
   "outputs": [],
   "source": [
    "#write a program which keeps adding the stream of input till the user enters quit."
   ]
  },
  {
   "cell_type": "code",
   "execution_count": 12,
   "metadata": {},
   "outputs": [
    {
     "name": "stdout",
     "output_type": "stream",
     "text": [
      "the total is 26\n"
     ]
    }
   ],
   "source": [
    "while (True):\n",
    "    a = int(input('Enter the price of the item:\\n'))\n",
    "    if a != 0:\n",
    "        sum = sum + a\n",
    "    else:\n",
    "        print (f'the total is {sum}')\n",
    "        break"
   ]
  },
  {
   "cell_type": "code",
   "execution_count": 15,
   "metadata": {},
   "outputs": [
    {
     "name": "stdout",
     "output_type": "stream",
     "text": [
      "The total price is 36\n"
     ]
    }
   ],
   "source": [
    "while (True):   \n",
    "    a = input('Enter the item price:\\n')\n",
    "    if a != 'q':\n",
    "        sum = sum + int(a)\n",
    "    else:\n",
    "        print (f'The total price is {sum}')\n",
    "        break"
   ]
  },
  {
   "cell_type": "code",
   "execution_count": null,
   "metadata": {},
   "outputs": [],
   "source": []
  }
 ],
 "metadata": {
  "kernelspec": {
   "display_name": "practice",
   "language": "python",
   "name": "python3"
  },
  "language_info": {
   "codemirror_mode": {
    "name": "ipython",
    "version": 3
   },
   "file_extension": ".py",
   "mimetype": "text/x-python",
   "name": "python",
   "nbconvert_exporter": "python",
   "pygments_lexer": "ipython3",
   "version": "3.7.0 (default, Jun 28 2018, 08:04:48) [MSC v.1912 64 bit (AMD64)]"
  },
  "orig_nbformat": 4,
  "vscode": {
   "interpreter": {
    "hash": "fff74ef4da67ab0e30273f900e6f807b4ecb8c834c0f4afbff7035a73aa0ac91"
   }
  }
 },
 "nbformat": 4,
 "nbformat_minor": 2
}
