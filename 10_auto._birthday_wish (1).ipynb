{
 "cells": [
  {
   "cell_type": "code",
   "execution_count": 1,
   "metadata": {},
   "outputs": [
    {
     "ename": "ModuleNotFoundError",
     "evalue": "No module named 'pandas'",
     "output_type": "error",
     "traceback": [
      "\u001b[1;31m---------------------------------------------------------------------------\u001b[0m",
      "\u001b[1;31mModuleNotFoundError\u001b[0m                       Traceback (most recent call last)",
      "\u001b[1;32m~\\AppData\\Local\\Temp\\ipykernel_4596\\803638512.py\u001b[0m in \u001b[0;36m<module>\u001b[1;34m\u001b[0m\n\u001b[1;32m----> 1\u001b[1;33m \u001b[1;32mimport\u001b[0m \u001b[0mpandas\u001b[0m \u001b[1;32mas\u001b[0m \u001b[0mpd\u001b[0m\u001b[1;33m\u001b[0m\u001b[0m\n\u001b[0m\u001b[0;32m      2\u001b[0m \u001b[1;32mimport\u001b[0m \u001b[0mxlrd\u001b[0m\u001b[1;33m\u001b[0m\u001b[0m\n\u001b[0;32m      3\u001b[0m \u001b[1;32mimport\u001b[0m \u001b[0mdatetime\u001b[0m\u001b[1;33m\u001b[0m\u001b[0m\n\u001b[0;32m      4\u001b[0m \u001b[1;32mimport\u001b[0m \u001b[0msmtplib\u001b[0m\u001b[1;33m\u001b[0m\u001b[0m\n\u001b[0;32m      5\u001b[0m \u001b[1;33m\u001b[0m\u001b[0m\n",
      "\u001b[1;31mModuleNotFoundError\u001b[0m: No module named 'pandas'"
     ]
    }
   ],
   "source": [
    "\n",
    "import pandas as pd\n",
    "import xlrd\n",
    "import datetime\n",
    "import smtplib\n",
    "\n",
    "GMAIL_ID = \"\"\n",
    "GMAIL_PSWD= \"\"\n",
    "\n",
    "def sendemail(to, sub, msg):                                                    # for sending an e-mail from gmail\n",
    "    print (f\"Email to {to} sent with subject:{sub} and message {msg}\")\n",
    "    s = smtplib.SMTP('smtp.gmail.com', 587)\n",
    "    s.starttls()\n",
    "    s.login(GMAIL_ID, GMAIL_PSWD)\n",
    "    s.sendmail(GMAIL_ID, to, F\"subject: {sub}\\n\\n{msg}\")\n",
    "    s.quit\n",
    "\n",
    "    \n",
    "if __name__ == \"__main__\":\n",
    "    df = pd.read_excel(\"data.xlsx\")                                             # for reading the data frame\n",
    "    #print(df)\n",
    "    today = datetime.datetime.now().strftime('%d-%m')\n",
    "    yearNow = datetime.datetime.now().strftime('%Y')\n",
    "    #print((today))\n",
    "    writeInd = []\n",
    "    for index, item in df.iterrows():\n",
    "        print(index, item['Birthday'])\n",
    "\n",
    "        bday = item('Birthday').strftime('%d-%m')                                 # for b'day in dd-mm format\n",
    "        if (bday == today) and yearNow not in str(item['Year']):\n",
    "            sendemail(item(\"Email\"), \"Happy birthday\", item['Dialogue'])\n",
    "            writeInd.append(index)                                                 # appending the data frame if already wished\n",
    "\n",
    "    print(writeInd)                                                                \n",
    "    for i in writeInd:\n",
    "        df.loc[i, 'Year']\n",
    "        print(yr)\n",
    "        df.loc[i,'Year'] = str(yr) + ',' + str(yearNow)\n",
    "\n",
    "    print(df)\n",
    "    df.to_excel('data.xlsx', index=False)\n"
   ]
  }
 ],
 "metadata": {
  "kernelspec": {
   "display_name": "base",
   "language": "python",
   "name": "python3"
  },
  "language_info": {
   "codemirror_mode": {
    "name": "ipython",
    "version": 3
   },
   "file_extension": ".py",
   "mimetype": "text/x-python",
   "name": "python",
   "nbconvert_exporter": "python",
   "pygments_lexer": "ipython3",
   "version": "3.9.13 (main, Aug 25 2022, 23:51:50) [MSC v.1916 64 bit (AMD64)]"
  },
  "orig_nbformat": 4,
  "vscode": {
   "interpreter": {
    "hash": "a825f8e8905b8e64233e6384cfa1616d0baa442a3b458fa78e4916d5c671b0d4"
   }
  }
 },
 "nbformat": 4,
 "nbformat_minor": 2
}
