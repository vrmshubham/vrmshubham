{
 "cells": [
  {
   "cell_type": "code",
   "execution_count": 7,
   "metadata": {},
   "outputs": [],
   "source": [
    "# drinking water notification system"
   ]
  },
  {
   "cell_type": "code",
   "execution_count": 8,
   "metadata": {},
   "outputs": [
    {
     "name": "stdout",
     "output_type": "stream",
     "text": [
      "Requirement already satisfied: plyer in g:\\anaconda3\\envs\\practice\\lib\\site-packages (2.1.0)\n"
     ]
    }
   ],
   "source": [
    "!pip install plyer"
   ]
  },
  {
   "cell_type": "code",
   "execution_count": 9,
   "metadata": {},
   "outputs": [],
   "source": [
    "import time\n",
    "from plyer import notification \n",
    "\n"
   ]
  },
  {
   "cell_type": "code",
   "execution_count": 10,
   "metadata": {},
   "outputs": [],
   "source": [
    "\n",
    "if __name__ == \"main\":\n",
    "    notification.notify(\n",
    "        title = \"**Please drink water**\",\n",
    "        text = \"I believe that water is the only drink for a wise man Henry David Thoreau \",\n",
    "        icon =  \"C:/Users/sverma/Desktop/Py.PraPRo/icon.ico\",\n",
    "        timeout = 10)\n",
    "\n"
   ]
  },
  {
   "cell_type": "code",
   "execution_count": null,
   "metadata": {},
   "outputs": [],
   "source": []
  }
 ],
 "metadata": {
  "kernelspec": {
   "display_name": "practice",
   "language": "python",
   "name": "python3"
  },
  "language_info": {
   "codemirror_mode": {
    "name": "ipython",
    "version": 3
   },
   "file_extension": ".py",
   "mimetype": "text/x-python",
   "name": "python",
   "nbconvert_exporter": "python",
   "pygments_lexer": "ipython3",
   "version": "3.7.0"
  },
  "orig_nbformat": 4,
  "vscode": {
   "interpreter": {
    "hash": "fff74ef4da67ab0e30273f900e6f807b4ecb8c834c0f4afbff7035a73aa0ac91"
   }
  }
 },
 "nbformat": 4,
 "nbformat_minor": 2
}
