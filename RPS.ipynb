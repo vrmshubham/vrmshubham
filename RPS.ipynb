{
 "cells": [
  {
   "cell_type": "code",
   "execution_count": 28,
   "metadata": {},
   "outputs": [],
   "source": [
    "import random\n",
    "\n",
    "while(True):\n",
    "    def GameWin (comp, player):\n",
    "        if comp == player:\n",
    "            return None\n",
    "        elif comp == 'r':\n",
    "            player == 's':\n",
    "            return True\n",
    "        elif comp == 'p':\n",
    "            player == 'r':\n",
    "            return True\n",
    "        elif comp == 's':\n",
    "            if player == 'p':\n",
    "                return True\n",
    "        else:\n",
    "            return False\n",
    "            print ('You lost the game, Try again!!!')\n",
    "            \n",
    "    \n",
    "    player = int(input('Enter your choice 1 = rock, 2 = paper, 3 = Scissor'))\n",
    "    if player == 1:\n",
    "        player == 'r'\n",
    "    elif player == 2:\n",
    "        player == 'p'\n",
    "    elif player == 3:\n",
    "        player == 's'\n",
    "    else:\n",
    "        print('Enter a valid input')\n",
    "    \n",
    "    \n",
    "    # randnum = random.randint(1,3)\n",
    "    # if randnum == 1:\n",
    "    #     comp == 'r'\n",
    "    # if randnum == 2:\n",
    "    #     comp == 'p'\n",
    "    # if randnum == 3:\n",
    "    #     comp == 's'\n",
    "\n",
    "   \n",
    "    a = GameWin(comp, player)\n",
    "\n",
    "    if a == None:\n",
    "        print ('\\n Tie')\n",
    "    elif a == True:\n",
    "        print ('congratulations you win!!!!') \n",
    "    else:\n",
    "        print ('You Lose')\n",
    "break   \n"
   ]
  },
  {
   "cell_type": "code",
   "execution_count": 32,
   "metadata": {},
   "outputs": [
    {
     "ename": "NameError",
     "evalue": "name 'pc' is not defined",
     "output_type": "error",
     "traceback": [
      "\u001b[1;31m---------------------------------------------------------------------------\u001b[0m",
      "\u001b[1;31mNameError\u001b[0m                                 Traceback (most recent call last)",
      "\u001b[1;32m~\\AppData\\Local\\Temp\\ipykernel_3704\\1822715101.py\u001b[0m in \u001b[0;36m<module>\u001b[1;34m\u001b[0m\n\u001b[0;32m     27\u001b[0m     \u001b[1;32melse\u001b[0m\u001b[1;33m:\u001b[0m\u001b[1;33m\u001b[0m\u001b[1;33m\u001b[0m\u001b[0m\n\u001b[0;32m     28\u001b[0m         \u001b[0mprint\u001b[0m \u001b[1;33m(\u001b[0m\u001b[1;34m'Enter a valid input'\u001b[0m\u001b[1;33m)\u001b[0m\u001b[1;33m\u001b[0m\u001b[1;33m\u001b[0m\u001b[0m\n\u001b[1;32m---> 29\u001b[1;33m     \u001b[0ma\u001b[0m \u001b[1;33m=\u001b[0m \u001b[0mgame\u001b[0m\u001b[1;33m(\u001b[0m\u001b[0mpc\u001b[0m\u001b[1;33m,\u001b[0m\u001b[0mpl\u001b[0m\u001b[1;33m)\u001b[0m\u001b[1;33m\u001b[0m\u001b[1;33m\u001b[0m\u001b[0m\n\u001b[0m\u001b[0;32m     30\u001b[0m     \u001b[1;32mif\u001b[0m \u001b[0ma\u001b[0m \u001b[1;33m==\u001b[0m \u001b[1;32mNone\u001b[0m\u001b[1;33m:\u001b[0m\u001b[1;33m\u001b[0m\u001b[1;33m\u001b[0m\u001b[0m\n\u001b[0;32m     31\u001b[0m         \u001b[0mprint\u001b[0m \u001b[1;33m(\u001b[0m\u001b[1;34m'Tie'\u001b[0m\u001b[1;33m)\u001b[0m\u001b[1;33m\u001b[0m\u001b[1;33m\u001b[0m\u001b[0m\n",
      "\u001b[1;31mNameError\u001b[0m: name 'pc' is not defined"
     ]
    }
   ],
   "source": [
    "\n",
    "'''i have defined the conditions for the inputs and outputs in favour of the comp. \n",
    "to win the game but now the program is asking for defining pc but we want the \n",
    "the pc to take inputs as per the conditions defined without random as \n",
    "it takes any random inputs , how can we solve this?'''\n",
    "\n",
    "\n",
    "playerName = input('Enter Your name:\\n')\n",
    "while (True):\n",
    "    def game(pc, pl):  #pc = computer , pl = player \n",
    "        if pc == pl :\n",
    "            return None\n",
    "\n",
    "        elif pl == 'r':\n",
    "            if pc == 'p':\n",
    "                print ('comp chose paper')\n",
    "        \n",
    "        elif pl == 'p':\n",
    "            if pc == 's':\n",
    "                print('Comp chose scissors ')\n",
    "        \n",
    "        elif pl == 's':\n",
    "            if pc == 'r':\n",
    "                print('comp chose rock')\n",
    "        \n",
    "        else:\n",
    "            return False\n",
    "\n",
    "    pl = int(input('Enter your Choice: '))\n",
    "    \n",
    "    if pl == 1:\n",
    "        pl == 'r'\n",
    "    elif pl == 2:\n",
    "        pl == 'p'\n",
    "    elif pl == 3:\n",
    "        pl == 's'\n",
    "    else:\n",
    "        print ('Enter a valid input')\n",
    "    \n",
    "    a = game(pc, pl)\n",
    "    if a == None:\n",
    "        print ('Tie')\n",
    "    elif a:\n",
    "        print ('you win!!!')\n",
    "    else:\n",
    "        ('You Loose, Try Again!!!') \n",
    "break\n"
   ]
  }
 ],
 "metadata": {
  "kernelspec": {
   "display_name": "practice",
   "language": "python",
   "name": "python3"
  },
  "language_info": {
   "codemirror_mode": {
    "name": "ipython",
    "version": 3
   },
   "file_extension": ".py",
   "mimetype": "text/x-python",
   "name": "python",
   "nbconvert_exporter": "python",
   "pygments_lexer": "ipython3",
   "version": "3.7.0 (default, Jun 28 2018, 08:04:48) [MSC v.1912 64 bit (AMD64)]"
  },
  "orig_nbformat": 4,
  "vscode": {
   "interpreter": {
    "hash": "fff74ef4da67ab0e30273f900e6f807b4ecb8c834c0f4afbff7035a73aa0ac91"
   }
  }
 },
 "nbformat": 4,
 "nbformat_minor": 2
}
